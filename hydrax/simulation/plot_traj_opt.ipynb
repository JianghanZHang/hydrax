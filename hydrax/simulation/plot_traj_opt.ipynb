{
 "cells": [
  {
   "cell_type": "code",
   "execution_count": 1,
   "metadata": {},
   "outputs": [],
   "source": [
    "import joblib\n",
    "import numpy as np\n",
    "\n",
    "import mujoco\n",
    "\n",
    "from hydrax.algs import CEM, MPPI, PredictiveSampling, Evosax, xNES, CMAES, SVES, GaussianSmoothing\n",
    "from hydrax.simulation.deterministic import run_interactive\n",
    "from hydrax.tasks.cart_pole import CartPole\n",
    "from hydrax.tasks.double_cart_pole import DoubleCartPole\n",
    "from hydrax.tasks.cube import CubeRotation\n",
    "from hydrax.tasks.walker import Walker\n",
    "from hydrax.simulation.traj_opt import traj_opt_helper"
   ]
  },
  {
   "cell_type": "code",
   "execution_count": null,
   "metadata": {},
   "outputs": [
    {
     "name": "stdout",
     "output_type": "stream",
     "text": [
      "Trajectory Optimization with 100 steps over a 1.0 second horizon.\n",
      "Jitting the controller...\n",
      "Time to jit: 13.151 seconds\n",
      "path created: data/DoubleCartPole\n"
     ]
    },
    {
     "name": "stderr",
     "output_type": "stream",
     "text": [
      "100%|██████████████████████████████████| 100/100 [00:01<00:00, 53.16it/s]\n"
     ]
    },
    {
     "name": "stdout",
     "output_type": "stream",
     "text": [
      "Optimization done.\n"
     ]
    },
    {
     "name": "stderr",
     "output_type": "stream",
     "text": [
      "100%|██████████████████████████████████| 100/100 [00:01<00:00, 54.71it/s]\n"
     ]
    },
    {
     "name": "stdout",
     "output_type": "stream",
     "text": [
      "Optimization done.\n"
     ]
    },
    {
     "name": "stderr",
     "output_type": "stream",
     "text": [
      "100%|██████████████████████████████████| 100/100 [00:02<00:00, 49.57it/s]\n"
     ]
    },
    {
     "name": "stdout",
     "output_type": "stream",
     "text": [
      "Optimization done.\n"
     ]
    },
    {
     "name": "stderr",
     "output_type": "stream",
     "text": [
      "100%|██████████████████████████████████| 100/100 [00:01<00:00, 53.07it/s]\n"
     ]
    },
    {
     "name": "stdout",
     "output_type": "stream",
     "text": [
      "Optimization done.\n"
     ]
    },
    {
     "name": "stderr",
     "output_type": "stream",
     "text": [
      "100%|██████████████████████████████████| 100/100 [00:01<00:00, 54.81it/s]\n"
     ]
    },
    {
     "name": "stdout",
     "output_type": "stream",
     "text": [
      "Optimization done.\n"
     ]
    },
    {
     "name": "stderr",
     "output_type": "stream",
     "text": [
      "100%|██████████████████████████████████| 100/100 [00:01<00:00, 54.78it/s]\n"
     ]
    },
    {
     "name": "stdout",
     "output_type": "stream",
     "text": [
      "Optimization done.\n",
      "Results saved\n",
      "Trajectory Optimization with 100 steps over a 1.0 second horizon.\n",
      "Jitting the controller...\n",
      "Time to jit: 3.842 seconds\n",
      "path created: data/DoubleCartPole\n"
     ]
    },
    {
     "name": "stderr",
     "output_type": "stream",
     "text": [
      "100%|██████████████████████████████████| 100/100 [00:02<00:00, 47.04it/s]\n"
     ]
    },
    {
     "name": "stdout",
     "output_type": "stream",
     "text": [
      "Optimization done.\n"
     ]
    },
    {
     "name": "stderr",
     "output_type": "stream",
     "text": [
      "100%|██████████████████████████████████| 100/100 [00:01<00:00, 50.44it/s]\n"
     ]
    },
    {
     "name": "stdout",
     "output_type": "stream",
     "text": [
      "Optimization done.\n"
     ]
    },
    {
     "name": "stderr",
     "output_type": "stream",
     "text": [
      "100%|██████████████████████████████████| 100/100 [00:02<00:00, 49.80it/s]\n"
     ]
    },
    {
     "name": "stdout",
     "output_type": "stream",
     "text": [
      "Optimization done.\n"
     ]
    },
    {
     "name": "stderr",
     "output_type": "stream",
     "text": [
      "100%|██████████████████████████████████| 100/100 [00:01<00:00, 52.22it/s]\n"
     ]
    },
    {
     "name": "stdout",
     "output_type": "stream",
     "text": [
      "Optimization done.\n"
     ]
    },
    {
     "name": "stderr",
     "output_type": "stream",
     "text": [
      "100%|██████████████████████████████████| 100/100 [00:01<00:00, 50.10it/s]\n"
     ]
    },
    {
     "name": "stdout",
     "output_type": "stream",
     "text": [
      "Optimization done.\n"
     ]
    },
    {
     "name": "stderr",
     "output_type": "stream",
     "text": [
      "100%|██████████████████████████████████| 100/100 [00:01<00:00, 52.21it/s]\n"
     ]
    },
    {
     "name": "stdout",
     "output_type": "stream",
     "text": [
      "Optimization done.\n",
      "Results saved\n",
      "Trajectory Optimization with 100 steps over a 1.0 second horizon.\n",
      "Jitting the controller...\n",
      "Time to jit: 2.298 seconds\n",
      "path created: data/DoubleCartPole\n"
     ]
    },
    {
     "name": "stderr",
     "output_type": "stream",
     "text": [
      "100%|██████████████████████████████████| 100/100 [00:01<00:00, 53.35it/s]\n"
     ]
    },
    {
     "name": "stdout",
     "output_type": "stream",
     "text": [
      "Optimization done.\n"
     ]
    },
    {
     "name": "stderr",
     "output_type": "stream",
     "text": [
      "100%|██████████████████████████████████| 100/100 [00:01<00:00, 55.13it/s]\n"
     ]
    },
    {
     "name": "stdout",
     "output_type": "stream",
     "text": [
      "Optimization done.\n"
     ]
    },
    {
     "name": "stderr",
     "output_type": "stream",
     "text": [
      "100%|██████████████████████████████████| 100/100 [00:01<00:00, 55.08it/s]\n"
     ]
    },
    {
     "name": "stdout",
     "output_type": "stream",
     "text": [
      "Optimization done.\n"
     ]
    },
    {
     "name": "stderr",
     "output_type": "stream",
     "text": [
      "100%|██████████████████████████████████| 100/100 [00:01<00:00, 55.21it/s]\n"
     ]
    },
    {
     "name": "stdout",
     "output_type": "stream",
     "text": [
      "Optimization done.\n"
     ]
    },
    {
     "name": "stderr",
     "output_type": "stream",
     "text": [
      "100%|██████████████████████████████████| 100/100 [00:01<00:00, 55.09it/s]\n"
     ]
    },
    {
     "name": "stdout",
     "output_type": "stream",
     "text": [
      "Optimization done.\n"
     ]
    },
    {
     "name": "stderr",
     "output_type": "stream",
     "text": [
      "100%|██████████████████████████████████| 100/100 [00:01<00:00, 54.56it/s]"
     ]
    },
    {
     "name": "stdout",
     "output_type": "stream",
     "text": [
      "Optimization done.\n",
      "Results saved\n"
     ]
    },
    {
     "name": "stderr",
     "output_type": "stream",
     "text": [
      "\n"
     ]
    }
   ],
   "source": [
    "task = DoubleCartPole()\n",
    "mj_model = task.mj_model\n",
    "mj_model.opt.timestep = 0.01\n",
    "mj_model.opt.iterations = 5\n",
    "mj_data = mujoco.MjData(mj_model)\n",
    "\n",
    "num_trails = 6\n",
    "max_iterations = 100\n",
    "num_samples = 1024\n",
    "\n",
    "xnes = xNES(\n",
    "    task,\n",
    "    num_samples = num_samples,\n",
    "    temperature= 0.1,\n",
    "    sigma = 0.3,\n",
    "    lr_sigma=0.5,\n",
    "    lr_B = 0.05,\n",
    "    plan_horizon=1.0,\n",
    "    spline_type=\"cubic\",\n",
    "    num_knots=100,\n",
    "    iterations = 1\n",
    ")\n",
    "mj_model = task.mj_model\n",
    "\n",
    "to = traj_opt_helper(xnes, mj_model, mj_data)\n",
    "to.trails(max_iteration=max_iterations, num_trails = num_trails)\n",
    "\n",
    "cmaes = CMAES(\n",
    "    task,\n",
    "    num_samples = num_samples,\n",
    "    sigma = 0.3,\n",
    "    plan_horizon=1.0,\n",
    "    spline_type=\"cubic\",\n",
    "    num_knots=100,\n",
    "    iterations = 1\n",
    ")\n",
    "\n",
    "to = traj_opt_helper(cmaes, mj_model, mj_data)\n",
    "to.trails(max_iteration=max_iterations, num_trails = num_trails)\n",
    "\n",
    "mppi = MPPI(\n",
    "    task,\n",
    "    num_samples = num_samples,\n",
    "    temperature=0.1,\n",
    "    noise_level= 0.3,\n",
    "    plan_horizon=1.0,\n",
    "    spline_type=\"cubic\",\n",
    "    num_knots=100,\n",
    "    iterations = 1\n",
    ")\n",
    "mj_model = task.mj_model\n",
    "\n",
    "to = traj_opt_helper(mppi, mj_model, mj_data)\n",
    "to.trails(max_iteration=max_iterations, num_trails = num_trails)\n"
   ]
  },
  {
   "cell_type": "code",
   "execution_count": 10,
   "metadata": {},
   "outputs": [],
   "source": [
    "task_name = task.__class__.__name__\n",
    "path = \"data/\" + task_name + \"/\"\n",
    "\n",
    "xNES_costs = joblib.load(path + \"xNES_costs_trails_average.pkl\")\n",
    "MPPI_costs = joblib.load(path + \"MPPI_costs_trails_average.pkl\")\n",
    "CMAES_costs = joblib.load(path + \"CMAES_costs_trails_average.pkl\")"
   ]
  },
  {
   "cell_type": "code",
   "execution_count": 11,
   "metadata": {},
   "outputs": [
    {
     "data": {
      "image/png": "[encoded data removed]",
      "text/plain": [
       "<Figure size 1000x600 with 1 Axes>"
      ]
     },
     "metadata": {},
     "output_type": "display_data"
    }
   ],
   "source": [
    "import matplotlib.pyplot as plt\n",
    "\n",
    "# print(xNES_costs)\n",
    "# # Plot the costs\n",
    "plt.figure(figsize=(10, 6))\n",
    "\n",
    "xNES_costs = np.array(xNES_costs).T\n",
    "MPPI_costs = np.array(MPPI_costs).T\n",
    "CMAES_costs = np.array(CMAES_costs).T\n",
    "\n",
    "\n",
    "plt.plot(xNES_costs,   label=\"xNES\")\n",
    "plt.plot(MPPI_costs,   label=\"MPPI\")\n",
    "plt.plot(CMAES_costs,  label=\"CMA-ES\")\n",
    "\n",
    "plt.title( task_name + \" Swing-up Task\")\n",
    "plt.xlabel(\"Iteration\")\n",
    "plt.ylabel(\"Cost\")\n",
    "\n",
    "# single legend call:\n",
    "plt.legend(loc=\"best\")\n",
    "plt.tight_layout()\n",
    "plt.show()\n"
   ]
  }
 ],
 "metadata": {
  "kernelspec": {
   "display_name": "hydrax",
   "language": "python",
   "name": "hydrax"
  },
  "language_info": {
   "codemirror_mode": {
    "name": "ipython",
    "version": 3
   },
   "file_extension": ".py",
   "mimetype": "text/x-python",
   "name": "python",
   "nbconvert_exporter": "python",
   "pygments_lexer": "ipython3",
   "version": "3.12.10"
  }
 },
 "nbformat": 4,
 "nbformat_minor": 2
}
