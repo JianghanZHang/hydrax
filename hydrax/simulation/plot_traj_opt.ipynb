{
 "cells": [
  {
   "cell_type": "code",
   "execution_count": null,
   "metadata": {},
   "outputs": [],
   "source": [
    "import joblib\n",
    "import numpy as np\n",
    "\n",
    "import mujoco\n",
    "\n",
    "from hydrax.algs import CEM, MPPI, PredictiveSampling, Evosax, xNES, CMAES, GaussianSmoothing, xMPPI, nMPPI\n",
    "from hydrax.simulation.deterministic import run_interactive\n",
    "from hydrax.tasks.cart_pole import CartPole\n",
    "from hydrax.tasks.cart_pole_unconstrained import CartPoleUnconstrained\n",
    "from hydrax.tasks.pusht_unconstrained import PushTUnconstrained\n",
    "from hydrax.tasks.cube import CubeRotation\n",
    "from hydrax.tasks.pusht import PushT\n",
    "from hydrax.tasks.humanoid_standup import HumanoidStandup\n",
    "from hydrax.tasks.humanoid_mocap import HumanoidMocap\n",
    "from hydrax.tasks.walker import Walker\n",
    "from hydrax.simulation.traj_opt import traj_opt_helper"
   ]
  },
  {
   "cell_type": "code",
   "execution_count": null,
   "metadata": {},
   "outputs": [],
   "source": [
    "# Parameters\n",
    "num_trails = 6\n",
    "max_iterations = 100\n",
    "num_samples = 2048\n",
    "sigma = 0.3\n",
    "temperature = 0.1\n",
    "spline = \"zero\"\n",
    "horizon = 1.0\n",
    "num_knots = 100\n",
    "\n",
    "# # CubeRotation\n",
    "# task = CubeRotation()\n",
    "# mj_model = task.mj_model\n",
    "# mj_data = mujoco.MjData(mj_model)\n",
    "\n",
    "# CartPole\n",
    "# task = CartPoleUnconstrained()\n",
    "# mj_model = task.mj_model\n",
    "# mj_data = mujoco.MjData(mj_model)\n",
    "\n",
    "# HumanoidStandup\n",
    "# task = HumanoidStandup()\n",
    "# mj_model = task.mj_model\n",
    "# # Set the initial state so the robot falls and needs to stand back up\n",
    "# mj_data = mujoco.MjData(mj_model)\n",
    "# mj_data.qpos[:] = mj_model.keyframe(\"stand\").qpos\n",
    "# mj_data.qpos[:3] = [0, 0, 0.1]\n",
    "# mj_data.qpos[3:7] = [0.7, 0.0, -0.7, 0.0]\n",
    "\n",
    "\n",
    "# # Define the task (cost and dynamics)\n",
    "# task = HumanoidMocap(reference_filename=\"Lafan1/mocap/UnitreeG1/walk1_subject2.npz\") # Humanoid balancing!\n",
    "# # Define the model used for simulation\n",
    "# mj_model = task.mj_model\n",
    "# mj_data = mujoco.MjData(mj_model)\n",
    "# mj_data.qpos[:] = task.reference[0]\n",
    "# initial_knots = task.reference[: num_knots, 7:]\n",
    "\n",
    "\n",
    "\n",
    "# # PushT\n",
    "task = PushTUnconstrained()\n",
    "mj_model = task.mj_model\n",
    "mj_data = mujoco.MjData(mj_model)\n",
    "mj_data.qpos = [0.1, 0.1, 1.3, 0.0, 0.0]"
   ]
  },
  {
   "cell_type": "code",
   "execution_count": null,
   "metadata": {},
   "outputs": [],
   "source": [
    "nmppi = nMPPI(\n",
    "    task,\n",
    "    num_samples = num_samples,\n",
    "    temperature= temperature,\n",
    "    sigma = sigma,\n",
    "    lr_cov = 0.5,\n",
    "    lr_mean = 1.0,\n",
    "    plan_horizon= horizon,\n",
    "    spline_type=spline,\n",
    "    num_knots= num_knots\n",
    ")\n",
    "\n",
    "to = traj_opt_helper(nmppi, mj_model, mj_data)\n",
    "to.trails(max_iteration=max_iterations, num_trails = num_trails)"
   ]
  },
  {
   "cell_type": "code",
   "execution_count": null,
   "metadata": {},
   "outputs": [],
   "source": [
    "\n",
    "xmppi = xMPPI(\n",
    "    task,\n",
    "    num_samples = num_samples,\n",
    "    temperature= temperature,\n",
    "    sigma = sigma,\n",
    "    lr_sigma = 0.5,\n",
    "    lr_B = 0.5,\n",
    "    plan_horizon= horizon,\n",
    "    spline_type=spline,\n",
    "    num_knots= num_knots\n",
    ")\n",
    "to = traj_opt_helper(xmppi, mj_model, mj_data)\n",
    "to.trails(max_iteration=max_iterations, num_trails = num_trails)\n"
   ]
  },
  {
   "cell_type": "code",
   "execution_count": null,
   "metadata": {},
   "outputs": [],
   "source": [
    "\n",
    "ps = PredictiveSampling(\n",
    "    task,\n",
    "    num_samples = num_samples,\n",
    "    noise_level=sigma,\n",
    "    plan_horizon= horizon,\n",
    "    spline_type= spline,\n",
    "    num_knots= num_knots,\n",
    ")\n",
    "\n",
    "to = traj_opt_helper(ps, mj_model, mj_data)\n",
    "to.trails(max_iteration=max_iterations, num_trails = num_trails)\n",
    "\n"
   ]
  },
  {
   "cell_type": "code",
   "execution_count": null,
   "metadata": {},
   "outputs": [],
   "source": [
    "\n",
    "xnes = xNES(\n",
    "    task,\n",
    "    num_samples = num_samples,\n",
    "    temperature= temperature,\n",
    "    sigma = sigma,\n",
    "    lr_sigma = 0.5,\n",
    "    lr_B = 0.5,\n",
    "    plan_horizon= horizon,\n",
    "    spline_type=spline,\n",
    "    num_knots= num_knots\n",
    ")\n",
    "to = traj_opt_helper(xnes, mj_model, mj_data)\n",
    "to.trails(max_iteration=max_iterations, num_trails = num_trails)\n"
   ]
  },
  {
   "cell_type": "code",
   "execution_count": null,
   "metadata": {},
   "outputs": [],
   "source": [
    "\n",
    "cem = CEM(\n",
    "    task,\n",
    "    num_samples = num_samples,\n",
    "    num_elites = 10,\n",
    "    sigma_start= sigma,\n",
    "    sigma_min = 0.1,\n",
    "    plan_horizon=horizon,\n",
    "    spline_type=spline,\n",
    "    num_knots=num_knots,\n",
    ")\n",
    "\n",
    "# cem = CEM(\n",
    "#     task,\n",
    "#     num_samples=num_samples,\n",
    "#     num_elites=20,\n",
    "#     sigma_start=0.2,\n",
    "#     sigma_min=0.05,\n",
    "#     explore_fraction=0.5,\n",
    "#     plan_horizon=horizon,\n",
    "#     spline_type=\"cubic\",\n",
    "#     num_knots= num_knots,\n",
    "# )\n",
    "\n",
    "to = traj_opt_helper(cem, mj_model, mj_data)\n",
    "to.trails(max_iteration=max_iterations, num_trails = num_trails)"
   ]
  },
  {
   "cell_type": "code",
   "execution_count": null,
   "metadata": {},
   "outputs": [],
   "source": [
    "\n",
    "cmaes = CMAES(\n",
    "    task,\n",
    "    num_samples = num_samples,\n",
    "    sigma = sigma,\n",
    "    plan_horizon= horizon,\n",
    "    spline_type=spline,\n",
    "    num_knots=num_knots,\n",
    ")\n",
    "\n",
    "to = traj_opt_helper(cmaes, mj_model, mj_data)\n",
    "to.trails(max_iteration=max_iterations, num_trails = num_trails)\n"
   ]
  },
  {
   "cell_type": "code",
   "execution_count": null,
   "metadata": {},
   "outputs": [],
   "source": [
    "mppi = MPPI(\n",
    "    task,\n",
    "    num_samples = num_samples,\n",
    "    temperature = temperature,\n",
    "    noise_level= sigma,\n",
    "    plan_horizon= horizon,\n",
    "    spline_type=spline,\n",
    "    num_knots=num_knots\n",
    ")\n",
    "mj_model = task.mj_model\n",
    "\n",
    "to = traj_opt_helper(mppi, mj_model, mj_data)\n",
    "to.trails(max_iteration=max_iterations, num_trails = num_trails)"
   ]
  },
  {
   "cell_type": "code",
   "execution_count": null,
   "metadata": {},
   "outputs": [],
   "source": [
    "gs = GaussianSmoothing(\n",
    "    task,\n",
    "    num_samples = num_samples,\n",
    "    temperature = temperature,\n",
    "    sigma = sigma,\n",
    "    plan_horizon= horizon,\n",
    "    spline_type= spline,\n",
    "    num_knots=num_knots\n",
    ")\n",
    "mj_model = task.mj_model\n",
    "\n",
    "to = traj_opt_helper(gs, mj_model, mj_data)\n",
    "to.trails(max_iteration=max_iterations, num_trails = num_trails)\n"
   ]
  },
  {
   "cell_type": "markdown",
   "metadata": {},
   "source": [
    "# Load costs"
   ]
  },
  {
   "cell_type": "code",
   "execution_count": null,
   "metadata": {},
   "outputs": [],
   "source": [
    "path = to.get_path()\n",
    "\n",
    "PS_costs = joblib.load(path + \"PredictiveSampling_costs_trails_average.pkl\")\n",
    "xNES_costs = joblib.load(path + \"xNES_costs_trails_average.pkl\")\n",
    "MPPI_costs = joblib.load(path + \"MPPI_costs_trails_average.pkl\")\n",
    "xMPPI_costs = joblib.load(path + \"xMPPI_costs_trails_average.pkl\")\n",
    "CMAES_costs = joblib.load(path + \"CMAES_costs_trails_average.pkl\")\n",
    "CEM_costs = joblib.load(path + \"CEM_costs_trails_average.pkl\")\n",
    "GS_costs = joblib.load(path + \"GaussianSmoothing_costs_trails_average.pkl\")\n",
    "nMPPI_costs = joblib.load(path + \"nMPPI_costs_trails_average.pkl\")"
   ]
  },
  {
   "cell_type": "markdown",
   "metadata": {},
   "source": [
    "## Plot the costs"
   ]
  },
  {
   "cell_type": "code",
   "execution_count": null,
   "metadata": {},
   "outputs": [],
   "source": [
    "import matplotlib.pyplot as plt\n",
    "\n",
    "task_name = task.__class__.__name__\n",
    "# print(xNES_costs)\n",
    "# # Plot the costs\n",
    "plt.figure(figsize=(10, 6))\n",
    "\n",
    "xNES_costs = np.array(xNES_costs).T\n",
    "MPPI_costs = np.array(MPPI_costs).T\n",
    "xMPPI_costs = np.array(xMPPI_costs).T\n",
    "CMAES_costs = np.array(CMAES_costs).T\n",
    "CEM_costs = np.array(CEM_costs).T\n",
    "GS_costs = np.array(GS_costs).T\n",
    "PS_costs = np.array(PS_costs).T\n",
    "nMPPI_costs = np.array(nMPPI_costs).T\n",
    "\n",
    "plt.plot(xNES_costs,   label=\"xNES\")\n",
    "plt.plot(MPPI_costs,   label=\"MPPI\")\n",
    "plt.plot(xMPPI_costs,   label=\"xMPPI\")\n",
    "plt.plot(nMPPI_costs,   label=\"nMPPI\")\n",
    "plt.plot(CMAES_costs,  label=\"CMA-ES\")\n",
    "plt.plot(CEM_costs,  label=\"CEM\")\n",
    "plt.plot(GS_costs,  label=\"Randomized smoothing\")\n",
    "plt.plot(PS_costs,  label=\"Predictive sampling\")\n",
    "\n",
    "\n",
    "plt.title( task_name + \" Task\")\n",
    "plt.xlabel(\"Iteration\")\n",
    "plt.ylabel(\"Cost\")\n",
    "\n",
    "# single legend call:\n",
    "plt.legend(loc=\"best\")\n",
    "plt.tight_layout()\n",
    "plt.show()"
   ]
  },
  {
   "cell_type": "markdown",
   "metadata": {},
   "source": [
    "## Visualization of trajectory rollouts"
   ]
  },
  {
   "cell_type": "code",
   "execution_count": null,
   "metadata": {},
   "outputs": [],
   "source": [
    "# to.visualize_rollout(task, controller=ps)\n",
    "# to.visualize_rollout(task, controller=mppi)\n",
    "\n",
    "to.visualize_rollout(task, controller=xmppi)\n",
    "# to.visualize_rollout(task, controller=xnes)"
   ]
  },
  {
   "cell_type": "code",
   "execution_count": null,
   "metadata": {},
   "outputs": [],
   "source": [
    "# to.visualize_rollout(task, controller=gs)"
   ]
  },
  {
   "cell_type": "code",
   "execution_count": null,
   "metadata": {},
   "outputs": [],
   "source": [
    "to.visualize_rollout(task, controller=cem)"
   ]
  }
 ],
 "metadata": {
  "kernelspec": {
   "display_name": "hydrax_traj_opt",
   "language": "python",
   "name": "python3"
  },
  "language_info": {
   "codemirror_mode": {
    "name": "ipython",
    "version": 3
   },
   "file_extension": ".py",
   "mimetype": "text/x-python",
   "name": "python",
   "nbconvert_exporter": "python",
   "pygments_lexer": "ipython3",
   "version": "3.12.10"
  }
 },
 "nbformat": 4,
 "nbformat_minor": 2
}
